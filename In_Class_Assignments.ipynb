{
  "nbformat": 4,
  "nbformat_minor": 0,
  "metadata": {
    "colab": {
      "provenance": [],
      "authorship_tag": "ABX9TyNdL3QFbjienMs4Jn5VyfNO",
      "include_colab_link": true
    },
    "kernelspec": {
      "name": "python3",
      "display_name": "Python 3"
    },
    "language_info": {
      "name": "python"
    }
  },
  "cells": [
    {
      "cell_type": "markdown",
      "metadata": {
        "id": "view-in-github",
        "colab_type": "text"
      },
      "source": [
        "<a href=\"https://colab.research.google.com/github/oln8-bot/BTE-320---Olivia-Nero/blob/main/In_Class_Assignments.ipynb\" target=\"_parent\"><img src=\"https://colab.research.google.com/assets/colab-badge.svg\" alt=\"Open In Colab\"/></a>"
      ]
    },
    {
      "cell_type": "markdown",
      "source": [
        "Income Statement Assignment"
      ],
      "metadata": {
        "id": "XB6DQjNOjkwF"
      }
    },
    {
      "cell_type": "code",
      "source": [
        "#Inputs: sales and cogs_pct and tax rate\n",
        "sales = input(\"Enter sales ($):\")\n",
        "sales = float(sales)\n",
        "\n",
        "cogs_pct = input(\"Enter cost of Goods sold (%) : \")\n",
        "cogs_pct = float(cogs_pct)\n",
        "\n",
        "tax_rate = input(\"Enter tax rate (%) : \")\n",
        "tax_rate = float(tax_rate)\n",
        "\n",
        "#Processes: calculate actual cost of goods sold and gross profit and taxes and net income\n",
        "cogs = sales * cogs_pct / 100\n",
        "gross_profit = sales - cogs\n",
        "taxes = gross_profit * tax_rate /100\n",
        "net_income = gross_profit - taxes\n",
        "\n",
        "#Outputs: display cogs and gross_profit\n",
        "print(f\"Cost of Goods sold: ${cogs}\")\n",
        "print(f\"Gross Profit: ${gross_profit}\")\n",
        "print(f\"Taxes: ${taxes}\")\n",
        "print(f\"Net Income: ${net_income}\")"
      ],
      "metadata": {
        "colab": {
          "base_uri": "https://localhost:8080/"
        },
        "id": "ilrTImQojhSs",
        "outputId": "dc50423e-c1f2-42d3-c1b7-09ec68468183"
      },
      "execution_count": 25,
      "outputs": [
        {
          "output_type": "stream",
          "name": "stdout",
          "text": [
            "Enter sales ($):12000\n",
            "Enter cost of Goods sold (%) : 40\n",
            "Enter tax rate (%) : 30\n",
            "Cost of Goods sold: $4800.0\n",
            "Gross Profit: $7200.0\n",
            "Taxes: $2160.0\n",
            "Net Income: $5040.0\n"
          ]
        }
      ]
    },
    {
      "cell_type": "code",
      "execution_count": 14,
      "metadata": {
        "colab": {
          "base_uri": "https://localhost:8080/"
        },
        "id": "d93y37fCgd-E",
        "outputId": "ffaa5f2c-322d-4992-ff42-6c09c4e6a5e0"
      },
      "outputs": [
        {
          "name": "stdout",
          "output_type": "stream",
          "text": [
            "Enter sales ($): 12000\n"
          ]
        }
      ],
      "source": [
        "sales = int(input(\"Enter sales ($): \"))\n"
      ]
    },
    {
      "cell_type": "code",
      "source": [
        "print(sales)"
      ],
      "metadata": {
        "colab": {
          "base_uri": "https://localhost:8080/"
        },
        "id": "lbeaiym_iGxC",
        "outputId": "3554df34-4353-4a4c-f63a-dc37188194f0"
      },
      "execution_count": 15,
      "outputs": [
        {
          "output_type": "stream",
          "name": "stdout",
          "text": [
            "12000\n"
          ]
        }
      ]
    },
    {
      "cell_type": "code",
      "source": [
        "cost_of_goods_sold = .4 * sales\n",
        "print(cost_of_goods_sold)"
      ],
      "metadata": {
        "colab": {
          "base_uri": "https://localhost:8080/"
        },
        "id": "AJTZY8SrjVlA",
        "outputId": "a9feeb4b-0320-401f-e8d6-b1121ba722a6"
      },
      "execution_count": 20,
      "outputs": [
        {
          "output_type": "stream",
          "name": "stdout",
          "text": [
            "4800.0\n"
          ]
        }
      ]
    },
    {
      "cell_type": "code",
      "source": [
        "profit = sales - cost_of_goods_sold\n",
        "print(profit)"
      ],
      "metadata": {
        "colab": {
          "base_uri": "https://localhost:8080/"
        },
        "id": "7aGwP24rjySd",
        "outputId": "385cc894-b8f3-4061-a168-e52feb461c08"
      },
      "execution_count": 22,
      "outputs": [
        {
          "output_type": "stream",
          "name": "stdout",
          "text": [
            "7200.0\n"
          ]
        }
      ]
    }
  ]
}