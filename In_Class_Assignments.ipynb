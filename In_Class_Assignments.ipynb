{
  "nbformat": 4,
  "nbformat_minor": 0,
  "metadata": {
    "colab": {
      "provenance": [],
      "authorship_tag": "ABX9TyPPWKX43WbQUjgwtnsSPbiw",
      "include_colab_link": true
    },
    "kernelspec": {
      "name": "python3",
      "display_name": "Python 3"
    },
    "language_info": {
      "name": "python"
    }
  },
  "cells": [
    {
      "cell_type": "markdown",
      "metadata": {
        "id": "view-in-github",
        "colab_type": "text"
      },
      "source": [
        "<a href=\"https://colab.research.google.com/github/oln8-bot/BTE-320---Olivia-Nero/blob/main/In_Class_Assignments.ipynb\" target=\"_parent\"><img src=\"https://colab.research.google.com/assets/colab-badge.svg\" alt=\"Open In Colab\"/></a>"
      ]
    },
    {
      "cell_type": "markdown",
      "source": [
        "Income Statement Assignment"
      ],
      "metadata": {
        "id": "XB6DQjNOjkwF"
      }
    },
    {
      "cell_type": "code",
      "source": [
        "#Inputs: sales and cogs_pct and tax rate\n",
        "sales = input(\"Enter sales ($):\")\n",
        "sales = float(sales)\n",
        "\n",
        "cogs_pct = input(\"Enter cost of Goods sold (%) : \")\n",
        "cogs_pct = float(cogs_pct)\n",
        "\n",
        "tax_rate = input(\"Enter tax rate (%) : \")\n",
        "tax_rate = float(tax_rate)\n",
        "\n",
        "#Processes: calculate actual cost of goods sold and gross profit and taxes and net income\n",
        "cogs = sales * cogs_pct / 100\n",
        "gross_profit = sales - cogs\n",
        "taxes = gross_profit * tax_rate /100\n",
        "net_income = gross_profit - taxes\n",
        "\n",
        "#Outputs: display cogs and gross_profit\n",
        "print(f\"Cost of Goods sold: ${cogs}\")\n",
        "print(f\"Gross Profit: ${gross_profit}\")\n",
        "print(f\"Taxes: ${taxes}\")\n",
        "print(f\"Net Income: ${net_income}\")"
      ],
      "metadata": {
        "colab": {
          "base_uri": "https://localhost:8080/"
        },
        "id": "ilrTImQojhSs",
        "outputId": "dc50423e-c1f2-42d3-c1b7-09ec68468183"
      },
      "execution_count": null,
      "outputs": [
        {
          "output_type": "stream",
          "name": "stdout",
          "text": [
            "Enter sales ($):12000\n",
            "Enter cost of Goods sold (%) : 40\n",
            "Enter tax rate (%) : 30\n",
            "Cost of Goods sold: $4800.0\n",
            "Gross Profit: $7200.0\n",
            "Taxes: $2160.0\n",
            "Net Income: $5040.0\n"
          ]
        }
      ]
    },
    {
      "cell_type": "code",
      "execution_count": null,
      "metadata": {
        "colab": {
          "base_uri": "https://localhost:8080/"
        },
        "id": "d93y37fCgd-E",
        "outputId": "ffaa5f2c-322d-4992-ff42-6c09c4e6a5e0"
      },
      "outputs": [
        {
          "name": "stdout",
          "output_type": "stream",
          "text": [
            "Enter sales ($): 12000\n"
          ]
        }
      ],
      "source": [
        "sales = int(input(\"Enter sales ($): \"))\n"
      ]
    },
    {
      "cell_type": "code",
      "source": [
        "print(sales)"
      ],
      "metadata": {
        "colab": {
          "base_uri": "https://localhost:8080/"
        },
        "id": "lbeaiym_iGxC",
        "outputId": "3554df34-4353-4a4c-f63a-dc37188194f0"
      },
      "execution_count": null,
      "outputs": [
        {
          "output_type": "stream",
          "name": "stdout",
          "text": [
            "12000\n"
          ]
        }
      ]
    },
    {
      "cell_type": "code",
      "source": [
        "cost_of_goods_sold = .4 * sales\n",
        "print(cost_of_goods_sold)"
      ],
      "metadata": {
        "colab": {
          "base_uri": "https://localhost:8080/"
        },
        "id": "AJTZY8SrjVlA",
        "outputId": "a9feeb4b-0320-401f-e8d6-b1121ba722a6"
      },
      "execution_count": null,
      "outputs": [
        {
          "output_type": "stream",
          "name": "stdout",
          "text": [
            "4800.0\n"
          ]
        }
      ]
    },
    {
      "cell_type": "code",
      "source": [
        "profit = sales - cost_of_goods_sold\n",
        "print(profit)"
      ],
      "metadata": {
        "colab": {
          "base_uri": "https://localhost:8080/"
        },
        "id": "7aGwP24rjySd",
        "outputId": "385cc894-b8f3-4061-a168-e52feb461c08"
      },
      "execution_count": null,
      "outputs": [
        {
          "output_type": "stream",
          "name": "stdout",
          "text": [
            "7200.0\n"
          ]
        }
      ]
    },
    {
      "cell_type": "markdown",
      "source": [
        "Inventory Management Assignment"
      ],
      "metadata": {
        "id": "JElNO_QrIknL"
      }
    },
    {
      "cell_type": "code",
      "source": [
        "#Inputs: Annual demand, Reorder cost, and holding cost\n",
        "annual_demand = input(\"Enter Annual Demand (units/year) : \")\n",
        "annual_demand = float(annual_demand)\n",
        "\n",
        "reorder_cost = input(\"Enter Reorder Cost ($/unit) : \")\n",
        "reorder_cost = float(reorder_cost)\n",
        "\n",
        "holding_cost = input(\"Enter Holding Cost ($/unit/year) : \")\n",
        "holding_cost = float(holding_cost)\n",
        "\n",
        "#Processes: caclulate EOQ\n",
        "EOQ = ((2 * annual_demand * reorder_cost) / (holding_cost)) ** 0.5\n",
        "\n",
        "\n",
        "#Outputs: display EOQ\n",
        "print(f\"Economic Order Quanity: {int(EOQ)} units\")"
      ],
      "metadata": {
        "colab": {
          "base_uri": "https://localhost:8080/"
        },
        "id": "6laQgPZpIqdW",
        "outputId": "0fc8056c-d745-420e-b4e5-a96d71e9399f"
      },
      "execution_count": null,
      "outputs": [
        {
          "output_type": "stream",
          "name": "stdout",
          "text": [
            "Enter Annual Demand (units/year) : 100\n",
            "Enter Reorder Cost ($/unit) : 1.5\n",
            "Enter Holding Cost ($/unit/year) : 3\n",
            "Economic Order Quanity: 10 units\n"
          ]
        }
      ]
    },
    {
      "cell_type": "markdown",
      "source": [
        "Design a simple numerical calculator"
      ],
      "metadata": {
        "id": "-bU9m_1LLwWl"
      }
    },
    {
      "cell_type": "code",
      "source": [
        "#Inputs: Numbers and operators\n",
        "num1 = float(input(\"Enter first number: \"))\n",
        "num2 = float(input(\"Enter second numner: \"))\n",
        "operator = input(\"Enter an operator (+, -, *, /, %, **, //): \")\n",
        "\n",
        "#Processes:\n",
        "if operator == \"+\":\n",
        "  result = num1 + num2\n",
        "elif operator == \"-\":\n",
        "  result = num1 - num2\n",
        "elif operator == \"*\":\n",
        "  result = num1 * num2\n",
        "elif operator == \"/\":\n",
        "  result = num1 / num2\n",
        "elif operator == \"%\":\n",
        "  result = num1 % num2\n",
        "elif operator == \"**\":\n",
        "  result = num1 ** num2\n",
        "elif operator == \"//\":\n",
        "  result = num1 // num2\n",
        "else:\n",
        "  print(\"Invalid operator\")\n",
        "\n",
        "#Outputs:\n",
        "print(f\"result: {result}\")"
      ],
      "metadata": {
        "colab": {
          "base_uri": "https://localhost:8080/"
        },
        "id": "sY0gL516Lz3E",
        "outputId": "721ecbeb-c9dc-430a-b49d-895f87ffd17f"
      },
      "execution_count": null,
      "outputs": [
        {
          "output_type": "stream",
          "name": "stdout",
          "text": [
            "Enter first number: 5\n",
            "Enter second numner: 2\n",
            "Enter an operator (+, -, *, /, %, **, //): *\n",
            "result: 10.0\n"
          ]
        }
      ]
    },
    {
      "cell_type": "markdown",
      "source": [
        "Parking garage"
      ],
      "metadata": {
        "id": "gMn3RebQFp3I"
      }
    },
    {
      "cell_type": "code",
      "source": [
        "print(\"# of hours\\tFee ($)\")\n",
        "print(\"--------------------\")\n",
        "for hours in range(1, 9):\n",
        "   fee = 5 + hours * 2.5\n",
        "   if fee < 10:\n",
        "    fee = 10.0\n",
        "    print(f\"{hours}\\t\\t{fee}\")\n",
        "   elif fee > 20:\n",
        "    fee = 20.0\n",
        "    print(f\"{hours}\\t\\t{fee}\")\n",
        "   else:\n",
        "    print(f\"{hours}\\t\\t{fee}\")"
      ],
      "metadata": {
        "colab": {
          "base_uri": "https://localhost:8080/"
        },
        "id": "A5GP7jsLFssX",
        "outputId": "d7c6e1eb-3e8f-4073-83e2-de8527e797eb"
      },
      "execution_count": 2,
      "outputs": [
        {
          "output_type": "stream",
          "name": "stdout",
          "text": [
            "# of hours\tFee ($)\n",
            "--------------------\n",
            "1\t\t10.0\n",
            "2\t\t10.0\n",
            "3\t\t12.5\n",
            "4\t\t15.0\n",
            "5\t\t17.5\n",
            "6\t\t20.0\n",
            "7\t\t20.0\n",
            "8\t\t20.0\n"
          ]
        }
      ]
    },
    {
      "cell_type": "markdown",
      "source": [
        "Movie theater"
      ],
      "metadata": {
        "id": "BpirJjAVF_Fb"
      }
    },
    {
      "cell_type": "code",
      "source": [
        "for ad in range(0, 201, 25):\n",
        "  revenue = 10 * (20 + 2 * ad ** 0.5) - 200 - ad\n",
        "  print(ad, round(revenue, 1))"
      ],
      "metadata": {
        "colab": {
          "base_uri": "https://localhost:8080/"
        },
        "id": "tchHRTB1GBJs",
        "outputId": "e803f445-14e1-40ab-952c-c1e6404e46a6"
      },
      "execution_count": 3,
      "outputs": [
        {
          "output_type": "stream",
          "name": "stdout",
          "text": [
            "0 0.0\n",
            "25 75.0\n",
            "50 91.4\n",
            "75 98.2\n",
            "100 100.0\n",
            "125 98.6\n",
            "150 94.9\n",
            "175 89.6\n",
            "200 82.8\n"
          ]
        }
      ]
    }
  ]
}